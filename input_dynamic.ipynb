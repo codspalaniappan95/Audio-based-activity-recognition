{
 "cells": [
  {
   "cell_type": "code",
   "execution_count": 2,
   "metadata": {},
   "outputs": [],
   "source": [
    "import numpy as np\n",
    "import scipy\n",
    "import soundfile as sf\n",
    "import sklearn\n",
    "import scipy.fftpack\n",
    "import os"
   ]
  },
  {
   "cell_type": "code",
   "execution_count": 3,
   "metadata": {},
   "outputs": [],
   "source": [
    "l=os.listdir(\"/Sivasankar/UCSD/Winter2019/CSE237A/finalproj/audio/test\")"
   ]
  },
  {
   "cell_type": "code",
   "execution_count": 4,
   "metadata": {},
   "outputs": [],
   "source": [
    "v=len(l)"
   ]
  },
  {
   "cell_type": "code",
   "execution_count": 5,
   "metadata": {},
   "outputs": [],
   "source": [
    "s=np.zeros((v,480000))\n",
    "f=np.zeros(v)\n",
    "for i in range(0,v):\n",
    "    s[i],f[i]=sf.read(l[i])"
   ]
  },
  {
   "cell_type": "code",
   "execution_count": 6,
   "metadata": {},
   "outputs": [
    {
     "data": {
      "text/plain": [
       "(1000, 1200, 480)"
      ]
     },
     "execution_count": 6,
     "metadata": {},
     "output_type": "execute_result"
    }
   ],
   "source": [
    "overlap=int(f[1]*0.01)\n",
    "no_frames=int(len(s[1])/overlap)\n",
    "framesize=int(f[1]*0.025)\n",
    "no_frames,framesize,overlap"
   ]
  },
  {
   "cell_type": "code",
   "execution_count": 7,
   "metadata": {},
   "outputs": [],
   "source": [
    "frames=np.zeros((v,no_frames,framesize))\n",
    "for k in range(0,v):\n",
    "    for i in range(0,no_frames):\n",
    "        for j in range(0,framesize):\n",
    "            t=i*overlap+j\n",
    "            if t<len(s[k]):\n",
    "                frames[k][i][j]=s[k][t]\n",
    "            "
   ]
  },
  {
   "cell_type": "code",
   "execution_count": 8,
   "metadata": {},
   "outputs": [],
   "source": [
    "def fftfunc(fr,nfft):\n",
    "    l=np.fft.rfft(fr,nfft)\n",
    "    l=np.absolute(l)\n",
    "    l=(1/2048)*(np.square(l))\n",
    "    print(l)\n",
    "    return l"
   ]
  },
  {
   "cell_type": "code",
   "execution_count": 9,
   "metadata": {},
   "outputs": [
    {
     "name": "stderr",
     "output_type": "stream",
     "text": [
      "C:\\Users\\psiva\\Anaconda3\\lib\\site-packages\\mkl_fft\\_numpy_fft.py:331: FutureWarning: Using a non-tuple sequence for multidimensional indexing is deprecated; use `arr[tuple(seq)]` instead of `arr[seq]`. In the future this will be interpreted as an array index, `arr[np.array(seq)]`, which will result either in an error or a different result.\n",
      "  output = mkl_fft.rfft_numpy(a, n=n, axis=axis)\n"
     ]
    },
    {
     "name": "stdout",
     "output_type": "stream",
     "text": [
      "[[8.30361689e-03 9.83832782e-02 4.86686080e-01 ... 4.45886071e-07\n",
      "  1.00808445e-06 9.91753950e-08]\n",
      " [3.04914817e-02 3.30475185e-01 3.12937873e-01 ... 4.48813024e-07\n",
      "  5.00636829e-07 3.90777586e-07]\n",
      " [1.70055267e-01 2.24382747e-01 1.24524571e-01 ... 5.87214471e-08\n",
      "  2.88812482e-08 4.28594831e-08]\n",
      " ...\n",
      " [1.25865522e-01 3.45059652e-02 1.82674096e-01 ... 1.78903825e-06\n",
      "  3.16214682e-06 1.07009146e-06]\n",
      " [1.64927664e-01 6.46367148e-03 2.85509397e-01 ... 5.02504304e-07\n",
      "  1.32327183e-06 6.88128239e-08]\n",
      " [6.85738673e-02 6.69540443e-02 7.43520566e-02 ... 1.03854514e-06\n",
      "  6.28149555e-07 3.50557457e-07]]\n",
      "[[2.08937865e-02 1.78979673e-02 3.06615718e-03 ... 2.38042484e-08\n",
      "  1.35653149e-08 6.36082405e-08]\n",
      " [6.14793250e-02 2.14387897e-02 8.82891980e-05 ... 6.06087910e-09\n",
      "  2.98390358e-09 8.91304808e-09]\n",
      " [3.37918775e-02 1.77508752e-02 1.18135785e-03 ... 4.22922866e-09\n",
      "  3.06622439e-08 3.93310984e-09]\n",
      " ...\n",
      " [5.99447162e-04 6.38680819e-04 1.62749244e-04 ... 2.05366650e-06\n",
      "  2.46805661e-06 3.01057707e-06]\n",
      " [9.21607789e-05 9.02402211e-04 9.84992874e-04 ... 2.43238891e-06\n",
      "  2.73834743e-06 2.31035119e-06]\n",
      " [4.65253923e-04 4.99979129e-04 5.75129600e-04 ... 1.06751487e-08\n",
      "  8.03725833e-09 6.76845957e-09]]\n",
      "[[1.25684880e-02 2.66384929e-04 2.87293446e-02 ... 9.81941976e-08\n",
      "  1.64147283e-08 7.94552761e-08]\n",
      " [5.42079159e-04 1.00501674e-02 3.29949495e-02 ... 3.56152321e-08\n",
      "  8.02797318e-09 5.89352567e-08]\n",
      " [1.04939064e-02 1.14632134e-03 1.19223571e-02 ... 5.85566107e-08\n",
      "  7.78808152e-09 2.68919848e-07]\n",
      " ...\n",
      " [2.19741704e-02 9.79309836e-03 1.13448807e-02 ... 1.29375856e-08\n",
      "  1.48645421e-08 4.19095159e-09]\n",
      " [3.48424452e-02 1.33198804e-02 1.98311396e-03 ... 2.35511677e-08\n",
      "  5.88579366e-08 2.20097718e-10]\n",
      " [5.74700913e-03 4.77112421e-03 3.58202932e-03 ... 4.14518802e-08\n",
      "  1.63494055e-08 2.61934474e-10]]\n",
      "[[1.34422975e-04 2.61580345e-03 1.72100824e-02 ... 1.09093642e-08\n",
      "  2.88927030e-08 3.33971002e-08]\n",
      " [5.53791566e-03 3.19163498e-03 6.71390772e-03 ... 6.05402932e-09\n",
      "  3.96615096e-08 8.66020855e-09]\n",
      " [2.74613501e-04 2.69871896e-04 2.80198866e-03 ... 9.15211970e-09\n",
      "  1.10433794e-08 1.74695742e-08]\n",
      " ...\n",
      " [1.97697965e-03 3.16070933e-01 1.42451455e-01 ... 1.04405397e-06\n",
      "  1.03559627e-06 1.42628824e-06]\n",
      " [1.82960299e-01 1.22672058e-01 2.50426893e-02 ... 2.96687674e-07\n",
      "  1.25845385e-06 2.77436811e-06]\n",
      " [1.02929230e-01 8.03853470e-02 3.41424562e-02 ... 1.84205213e-08\n",
      "  3.00402173e-07 5.03270712e-07]]\n",
      "[[3.03519857e-04 2.36309263e-02 2.71935371e-02 ... 5.27241794e-08\n",
      "  7.38643010e-09 9.29912858e-09]\n",
      " [5.46011416e-04 1.21864777e-02 2.81220086e-02 ... 1.00886415e-07\n",
      "  4.82956737e-08 6.87987267e-09]\n",
      " [3.05308241e-02 2.67626641e-03 1.68407582e-02 ... 9.28858309e-08\n",
      "  1.17584796e-07 2.84217094e-08]\n",
      " ...\n",
      " [4.89389100e-03 6.74190430e-03 5.28455805e-03 ... 1.41005158e-07\n",
      "  4.69562352e-07 3.85084604e-08]\n",
      " [6.35436282e-04 8.31740647e-03 2.05163397e-02 ... 5.10376219e-07\n",
      "  1.42891527e-07 4.25229246e-07]\n",
      " [8.66440359e-06 2.04986873e-03 7.46100387e-03 ... 2.57126664e-08\n",
      "  2.40700656e-08 2.22103154e-08]]\n",
      "[[1.92360677e-02 1.10075908e-02 3.65706678e-03 ... 1.89777206e-09\n",
      "  1.08376600e-08 3.82442522e-10]\n",
      " [2.21269148e-03 8.94456577e-04 6.76540103e-04 ... 5.73075379e-09\n",
      "  4.41141599e-08 1.17875061e-08]\n",
      " [1.46970820e-05 1.52276215e-03 1.90058672e-03 ... 2.63544173e-08\n",
      "  3.31618183e-09 1.36101335e-08]\n",
      " ...\n",
      " [1.62079523e-02 9.47840280e-04 4.77071820e-02 ... 3.11286121e-08\n",
      "  4.44778110e-08 1.31421984e-08]\n",
      " [1.16313481e-04 3.61417501e-03 1.64145959e-02 ... 3.86678103e-10\n",
      "  4.18006593e-08 7.64430297e-10]\n",
      " [4.86346020e-04 1.60356487e-03 3.64573627e-03 ... 5.65549689e-10\n",
      "  2.53744817e-08 5.22600203e-08]]\n",
      "[[8.78451079e-02 2.32439450e-02 5.03674826e-03 ... 2.94324851e-08\n",
      "  9.44471400e-08 2.16505214e-09]\n",
      " [5.53096743e-02 1.81274678e-02 7.52554089e-04 ... 9.35185790e-09\n",
      "  4.42560179e-08 5.57065505e-10]\n",
      " [2.31710062e-02 1.51928660e-02 3.88755539e-03 ... 4.45493925e-08\n",
      "  5.09311577e-09 1.36101335e-08]\n",
      " ...\n",
      " [8.43685179e-04 9.40781464e-04 7.87581706e-04 ... 6.51655127e-10\n",
      "  4.38123169e-09 4.10409484e-09]\n",
      " [2.18284826e-03 3.52380812e-03 2.16468260e-03 ... 1.56012770e-08\n",
      "  1.95704899e-08 1.80084498e-08]\n",
      " [1.67137415e-03 1.77169960e-03 2.11163713e-03 ... 4.39518592e-08\n",
      "  2.20601086e-08 4.27871782e-09]]\n",
      "[[1.74981076e-02 7.23184455e-02 5.00869937e-02 ... 2.93062423e-08\n",
      "  3.93871220e-08 1.13686838e-09]\n",
      " [2.18165119e-03 1.19397478e-02 1.55715803e-02 ... 4.68890899e-08\n",
      "  1.31856632e-08 2.44763214e-08]\n",
      " [1.28776075e-02 2.04295544e-02 1.26695278e-03 ... 1.67841131e-07\n",
      "  3.13918740e-08 7.42220436e-08]\n",
      " ...\n",
      " [5.40572948e-04 5.79548453e-04 9.08965180e-06 ... 6.04510690e-09\n",
      "  5.17720184e-09 1.85555109e-08]\n",
      " [5.02721378e-04 4.02897057e-04 1.91802150e-04 ... 1.58301328e-09\n",
      "  2.65282976e-09 1.09184839e-09]\n",
      " [1.20851475e-04 1.23810066e-04 1.22958530e-04 ... 1.17898670e-09\n",
      "  5.71004472e-10 2.91038305e-11]]\n",
      "[[9.21219403e-05 7.06628524e-04 2.70608768e-04 ... 4.01152789e-09\n",
      "  1.89446458e-09 2.04136086e-09]\n",
      " [4.43629365e-05 2.73008228e-04 9.96546208e-04 ... 9.31467895e-09\n",
      "  1.33902014e-09 6.22549123e-10]\n",
      " [5.44656068e-05 3.44105221e-05 2.49394491e-04 ... 8.00362670e-09\n",
      "  1.95170512e-10 9.62245394e-10]\n",
      " ...\n",
      " [1.94817041e-04 6.77801906e-04 3.41009541e-04 ... 7.49655049e-09\n",
      "  2.92035229e-09 1.13686838e-09]\n",
      " [3.09398754e-04 1.36670324e-03 2.00567356e-03 ... 1.88931791e-10\n",
      "  1.31629899e-09 8.91304808e-11]\n",
      " [5.30864731e-04 1.01096903e-03 2.00413660e-03 ... 4.34724810e-10\n",
      "  6.32925248e-10 1.92130756e-09]]\n",
      "[[2.45354378e-04 7.04265526e-04 7.07049511e-05 ... 7.70149697e-09\n",
      "  5.28954207e-09 1.92976586e-08]\n",
      " [7.23236735e-06 1.32169959e-04 2.13015229e-04 ... 6.99553951e-09\n",
      "  2.01383556e-08 1.16415322e-08]\n",
      " [2.34946538e-04 3.07549807e-06 1.10889260e-04 ... 2.83177004e-08\n",
      "  5.87070579e-09 1.67638063e-08]\n",
      " ...\n",
      " [8.53266120e-05 2.53084535e-03 2.04045493e-04 ... 5.01253872e-08\n",
      "  5.45788004e-08 1.22963684e-09]\n",
      " [4.89681629e-05 2.75628693e-04 6.20967714e-04 ... 7.60060625e-08\n",
      "  3.15550356e-08 1.02318154e-10]\n",
      " [1.69195810e-04 4.96855908e-04 1.42065749e-03 ... 2.64582372e-08\n",
      "  1.71034290e-08 8.28777047e-09]]\n"
     ]
    }
   ],
   "source": [
    "comp_spec=np.ndarray((v,no_frames,1025))\n",
    "for i in range(0,v):\n",
    "    comp_spec[i]=fftfunc(frames[i],2048)"
   ]
  },
  {
   "cell_type": "code",
   "execution_count": 10,
   "metadata": {},
   "outputs": [],
   "source": [
    "lowfreq=0\n",
    "highfreq=2595*np.log10(1+24000/700.)\n",
    "\n",
    "melpoints = np.linspace(lowfreq,highfreq,22)\n",
    "\n",
    "melpoints1=700*(10**(melpoints/2595.0)-1)\n",
    "\n",
    "bins=np.floor((2049)*melpoints1/48000)\n",
    "\n",
    "fbank = np.zeros((20,1025))\n",
    "for j in range(0,20):\n",
    "    for i in range(int(bins[j]), int(bins[j+1])):\n",
    "        fbank[j,i] = (i - bins[j]) / (bins[j+1]-bins[j])\n",
    "    for i in range(int(bins[j+1]), int(bins[j+2])):\n",
    "        fbank[j,i] = (bins[j+2]-i) / (bins[j+2]-bins[j+1])"
   ]
  },
  {
   "cell_type": "code",
   "execution_count": 11,
   "metadata": {},
   "outputs": [],
   "source": [
    "feat1=np.ndarray((v,1000,20))\n",
    "feat=np.ndarray((v,1000,13))\n",
    "for i in range(0,v):\n",
    "    feat1[i]=np.dot(comp_spec[i],fbank.T)\n",
    "    feat1[i]=np.where(feat1[i]==0,np.finfo(float).eps,feat1[i])\n",
    "    feat1[i]=np.log(feat1[i])\n",
    "    feat1[i]=scipy.fftpack.dct(feat1[i],norm='ortho')\n",
    "    feat[i]=feat1[i][:,:13]"
   ]
  },
  {
   "cell_type": "code",
   "execution_count": 12,
   "metadata": {},
   "outputs": [],
   "source": [
    "pad=np.zeros((v,1000,17))\n",
    "delta=np.zeros((v,1000,13))\n",
    "dpad=np.zeros((v,1000,17))\n",
    "ddelta=np.zeros((v,1000,13))\n",
    "for k in range(0,v):\n",
    "    for i in range(0,1000):\n",
    "        for j in range(2,15):\n",
    "            pad[k][i][j]=feat[k][i][j-2]\n",
    "for k in range(0,v):\n",
    "    for i in range(0,1000):\n",
    "        for j in range(0,13):\n",
    "            delta[k][i][j]=np.dot(np.arange(-2,3),pad[k][i][j:j+5])/10\n",
    "for k in range(0,v):\n",
    "    for i in range(0,1000):\n",
    "        for j in range(2,15):\n",
    "            dpad[k][i][j]=pad[k][i][j-2]\n",
    "for k in range(0,v):\n",
    "    for i in range(0,1000):\n",
    "        for j in range(0,13):\n",
    "            ddelta[k][i][j]=np.dot(np.arange(-2,3),dpad[k][i][j:j+5])/10  "
   ]
  },
  {
   "cell_type": "code",
   "execution_count": 13,
   "metadata": {},
   "outputs": [],
   "source": [
    "featvect=np.zeros((v,1000,39))\n",
    "for k in range(0,v):\n",
    "    for i in range(0,1000):\n",
    "        for j in range(0,13):\n",
    "            featvect[k][i][j]=feat[k][i][j]\n",
    "            featvect[k][i][j+13]=delta[k][i][j]\n",
    "            featvect[k][i][j+26]=ddelta[k][i][j]\n",
    "featvect=featvect.reshape(v,1,39000)\n",
    "\n",
    "for k in range(0,v):\n",
    "    np.savetxt('test%s.txt'%str(k+1),featvect[k])"
   ]
  },
  {
   "cell_type": "code",
   "execution_count": 14,
   "metadata": {},
   "outputs": [
    {
     "data": {
      "text/plain": [
       "(1, 39000)"
      ]
     },
     "execution_count": 14,
     "metadata": {},
     "output_type": "execute_result"
    }
   ],
   "source": [
    "featvect[0].shape"
   ]
  },
  {
   "cell_type": "code",
   "execution_count": null,
   "metadata": {},
   "outputs": [],
   "source": []
  }
 ],
 "metadata": {
  "kernelspec": {
   "display_name": "Python 3",
   "language": "python",
   "name": "python3"
  },
  "language_info": {
   "codemirror_mode": {
    "name": "ipython",
    "version": 3
   },
   "file_extension": ".py",
   "mimetype": "text/x-python",
   "name": "python",
   "nbconvert_exporter": "python",
   "pygments_lexer": "ipython3",
   "version": "3.7.0"
  }
 },
 "nbformat": 4,
 "nbformat_minor": 2
}
