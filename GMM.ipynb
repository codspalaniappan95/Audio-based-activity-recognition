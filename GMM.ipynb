{
 "cells": [
  {
   "cell_type": "code",
   "execution_count": 1,
   "metadata": {},
   "outputs": [],
   "source": [
    "import numpy as np\n",
    "import sklearn.linear_model as sk\n",
    "from sklearn.mixture import GaussianMixture "
   ]
  },
  {
   "cell_type": "code",
   "execution_count": 3,
   "metadata": {},
   "outputs": [],
   "source": [
    "type1=np.loadtxt('type1.txt')\n",
    "type2=np.loadtxt('type2.txt')\n",
    "type3=np.loadtxt('type3.txt')\n",
    "type4=np.loadtxt('type4.txt')\n",
    "type5=np.loadtxt('type5.txt')\n",
    "\n",
    "hair1=np.loadtxt('hair1.txt')\n",
    "hair2=np.loadtxt('hair2.txt')\n",
    "hair3=np.loadtxt('hair3.txt')\n",
    "hair4=np.loadtxt('hair4.txt')\n",
    "hair5=np.loadtxt('hair5.txt')\n",
    "\n",
    "laund1=np.loadtxt('laund1.txt')\n",
    "laund2=np.loadtxt('laund2.txt')\n",
    "laund3=np.loadtxt('laund3.txt')\n",
    "laund4=np.loadtxt('laund4.txt')\n",
    "laund5=np.loadtxt('laund5.txt')\n",
    "\n",
    "\n",
    "train=np.ndarray((9,39000))\n",
    "test=np.ndarray((6,39000))\n",
    "\n",
    "train[0]=type1\n",
    "train[1]=type2\n",
    "train[2]=type3\n",
    "train[3]=hair1\n",
    "train[4]=hair2\n",
    "train[5]=hair3\n",
    "train[6]=laund1\n",
    "train[7]=laund2\n",
    "train[8]=laund3\n",
    "\n",
    "test[0]=type4\n",
    "test[1]=type5\n",
    "test[2]=hair4\n",
    "test[3]=hair5\n",
    "test[4]=laund4\n",
    "test[5]=laund5\n",
    "\n",
    "trlab=np.zeros(9)\n",
    "tslab=np.zeros(6)\n",
    "\n",
    "trlab[3]=1\n",
    "trlab[4]=1\n",
    "trlab[5]=1\n",
    "trlab[6]=2\n",
    "trlab[7]=2\n",
    "trlab[8]=2\n",
    "\n",
    "tslab[2]=1\n",
    "tslab[3]=1\n",
    "tslab[4]=2\n",
    "tslab[5]=2"
   ]
  },
  {
   "cell_type": "code",
   "execution_count": 19,
   "metadata": {},
   "outputs": [
    {
     "data": {
      "text/plain": [
       "GaussianMixture(covariance_type='diag', init_params='kmeans', max_iter=100,\n",
       "        means_init=None, n_components=3, n_init=1, precisions_init=None,\n",
       "        random_state=None, reg_covar=1e-06, tol=0.001, verbose=0,\n",
       "        verbose_interval=10, warm_start=False, weights_init=None)"
      ]
     },
     "execution_count": 19,
     "metadata": {},
     "output_type": "execute_result"
    }
   ],
   "source": [
    "gmm = GaussianMixture(n_components=3,covariance_type='diag')\n",
    "gmm.fit(train,trlab)"
   ]
  },
  {
   "cell_type": "code",
   "execution_count": 20,
   "metadata": {},
   "outputs": [],
   "source": [
    "pred = gmm.predict(test)"
   ]
  },
  {
   "cell_type": "code",
   "execution_count": 23,
   "metadata": {},
   "outputs": [
    {
     "name": "stdout",
     "output_type": "stream",
     "text": [
      "Accuracy:  0.3333333333333333\n"
     ]
    }
   ],
   "source": [
    "from sklearn import metrics\n",
    "\n",
    "print (\"Accuracy: \",metrics.accuracy_score(pred,tslab))"
   ]
  }
 ],
 "metadata": {
  "kernelspec": {
   "display_name": "Python 3",
   "language": "python",
   "name": "python3"
  },
  "language_info": {
   "codemirror_mode": {
    "name": "ipython",
    "version": 3
   },
   "file_extension": ".py",
   "mimetype": "text/x-python",
   "name": "python",
   "nbconvert_exporter": "python",
   "pygments_lexer": "ipython3",
   "version": "3.7.1"
  }
 },
 "nbformat": 4,
 "nbformat_minor": 2
}
