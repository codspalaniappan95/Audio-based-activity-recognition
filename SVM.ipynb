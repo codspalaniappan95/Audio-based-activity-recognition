{
 "cells": [
  {
   "cell_type": "code",
   "execution_count": 1,
   "metadata": {},
   "outputs": [],
   "source": [
    "import numpy as np\n",
    "import sklearn.linear_model as sk\n",
    "import sklearn.svm as svk"
   ]
  },
  {
   "cell_type": "code",
   "execution_count": 2,
   "metadata": {},
   "outputs": [],
   "source": [
    "type1=np.loadtxt('type1.txt')\n",
    "type2=np.loadtxt('type2.txt')\n",
    "type3=np.loadtxt('type3.txt')\n",
    "type4=np.loadtxt('type4.txt')\n",
    "type5=np.loadtxt('type5.txt')\n",
    "\n",
    "hair1=np.loadtxt('hair1.txt')\n",
    "hair2=np.loadtxt('hair2.txt')\n",
    "hair3=np.loadtxt('hair3.txt')\n",
    "hair4=np.loadtxt('hair4.txt')\n",
    "hair5=np.loadtxt('hair5.txt')\n",
    "\n",
    "laund1=np.loadtxt('laund1.txt')\n",
    "laund2=np.loadtxt('laund2.txt')\n",
    "laund3=np.loadtxt('laund3.txt')\n",
    "laund4=np.loadtxt('laund4.txt')\n",
    "laund5=np.loadtxt('laund5.txt')\n",
    "\n",
    "\n",
    "train=np.ndarray((9,39000))\n",
    "test=np.ndarray((6,39000))\n",
    "\n",
    "train[0]=type1\n",
    "train[1]=type2\n",
    "train[2]=type3\n",
    "train[3]=hair1\n",
    "train[4]=hair2\n",
    "train[5]=hair3\n",
    "train[6]=laund1\n",
    "train[7]=laund2\n",
    "train[8]=laund3\n",
    "\n",
    "test[0]=type4\n",
    "test[1]=type5\n",
    "test[2]=hair4\n",
    "test[3]=hair5\n",
    "test[4]=laund4\n",
    "test[5]=laund5\n",
    "\n",
    "trlab=np.zeros(9)\n",
    "tslab=np.zeros(6)\n",
    "\n",
    "trlab[3]=1\n",
    "trlab[4]=1\n",
    "trlab[5]=1\n",
    "trlab[6]=2\n",
    "trlab[7]=2\n",
    "trlab[8]=2\n",
    "\n",
    "tslab[2]=1\n",
    "tslab[3]=1\n",
    "tslab[4]=2\n",
    "tslab[5]=2"
   ]
  },
  {
   "cell_type": "code",
   "execution_count": 3,
   "metadata": {},
   "outputs": [],
   "source": [
    "clf=sk.LogisticRegression(solver='sag',multi_class='multinomial')"
   ]
  },
  {
   "cell_type": "code",
   "execution_count": 4,
   "metadata": {},
   "outputs": [
    {
     "name": "stderr",
     "output_type": "stream",
     "text": [
      "/usr/lib/python3/dist-packages/sklearn/linear_model/sag.py:286: ConvergenceWarning: The max_iter was reached which means the coef_ did not converge\n",
      "  \"the coef_ did not converge\", ConvergenceWarning)\n"
     ]
    },
    {
     "data": {
      "text/plain": [
       "LogisticRegression(C=1.0, class_weight=None, dual=False, fit_intercept=True,\n",
       "          intercept_scaling=1, max_iter=100, multi_class='multinomial',\n",
       "          n_jobs=1, penalty='l2', random_state=None, solver='sag',\n",
       "          tol=0.0001, verbose=0, warm_start=False)"
      ]
     },
     "execution_count": 4,
     "metadata": {},
     "output_type": "execute_result"
    }
   ],
   "source": [
    "clf.fit(X=train,y=trlab)"
   ]
  },
  {
   "cell_type": "code",
   "execution_count": 5,
   "metadata": {},
   "outputs": [
    {
     "data": {
      "text/plain": [
       "array([ 2.,  2.,  1.,  1.,  2.,  2.])"
      ]
     },
     "execution_count": 5,
     "metadata": {},
     "output_type": "execute_result"
    }
   ],
   "source": [
    "clf.predict(test)"
   ]
  },
  {
   "cell_type": "code",
   "execution_count": 6,
   "metadata": {},
   "outputs": [
    {
     "data": {
      "text/plain": [
       "0.66666666666666663"
      ]
     },
     "execution_count": 6,
     "metadata": {},
     "output_type": "execute_result"
    }
   ],
   "source": [
    "clf.score(test,tslab)"
   ]
  },
  {
   "cell_type": "code",
   "execution_count": 7,
   "metadata": {},
   "outputs": [],
   "source": [
    "clf1=svk.SVC()"
   ]
  },
  {
   "cell_type": "code",
   "execution_count": 8,
   "metadata": {},
   "outputs": [
    {
     "data": {
      "text/plain": [
       "SVC(C=1.0, cache_size=200, class_weight=None, coef0=0.0,\n",
       "  decision_function_shape=None, degree=3, gamma='auto', kernel='rbf',\n",
       "  max_iter=-1, probability=False, random_state=None, shrinking=True,\n",
       "  tol=0.001, verbose=False)"
      ]
     },
     "execution_count": 8,
     "metadata": {},
     "output_type": "execute_result"
    }
   ],
   "source": [
    "clf1.fit(train,trlab)"
   ]
  },
  {
   "cell_type": "code",
   "execution_count": 9,
   "metadata": {},
   "outputs": [
    {
     "data": {
      "text/plain": [
       "array([ 0.,  0.,  1.,  1.,  2.,  2.])"
      ]
     },
     "execution_count": 9,
     "metadata": {},
     "output_type": "execute_result"
    }
   ],
   "source": [
    "clf1.predict(test)"
   ]
  },
  {
   "cell_type": "code",
   "execution_count": 10,
   "metadata": {},
   "outputs": [
    {
     "data": {
      "text/plain": [
       "1.0"
      ]
     },
     "execution_count": 10,
     "metadata": {},
     "output_type": "execute_result"
    }
   ],
   "source": [
    "clf1.score(test,tslab)"
   ]
  },
  {
   "cell_type": "code",
   "execution_count": null,
   "metadata": {},
   "outputs": [],
   "source": []
  }
 ],
 "metadata": {
  "kernelspec": {
   "display_name": "Python 3",
   "language": "python",
   "name": "python3"
  },
  "language_info": {
   "codemirror_mode": {
    "name": "ipython",
    "version": 3
   },
   "file_extension": ".py",
   "mimetype": "text/x-python",
   "name": "python",
   "nbconvert_exporter": "python",
   "pygments_lexer": "ipython3",
   "version": "3.5.3"
  }
 },
 "nbformat": 4,
 "nbformat_minor": 2
}
