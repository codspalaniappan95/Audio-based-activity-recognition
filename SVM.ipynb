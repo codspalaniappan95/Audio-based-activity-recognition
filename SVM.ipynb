{
 "cells": [
  {
   "cell_type": "code",
   "execution_count": 1,
   "metadata": {},
   "outputs": [],
   "source": [
    "import numpy as np\n",
    "import sklearn.linear_model as sk\n",
    "import sklearn.svm as svk"
   ]
  },
  {
   "cell_type": "code",
   "execution_count": 2,
   "metadata": {},
   "outputs": [],
   "source": [
    "type1=np.loadtxt('type1.txt')\n",
    "type2=np.loadtxt('type2.txt')\n",
    "type3=np.loadtxt('type3.txt')\n",
    "type4=np.loadtxt('type4.txt')\n",
    "type5=np.loadtxt('type5.txt')\n",
    "type6=np.loadtxt('type6.txt')\n",
    "type7=np.loadtxt('type7.txt')\n",
    "type8=np.loadtxt('type8.txt')\n",
    "type9=np.loadtxt('type9.txt')\n",
    "type10=np.loadtxt('type10.txt')\n",
    "\n",
    "hair1=np.loadtxt('hair1.txt')\n",
    "hair2=np.loadtxt('hair2.txt')\n",
    "hair3=np.loadtxt('hair3.txt')\n",
    "hair4=np.loadtxt('hair4.txt')\n",
    "hair5=np.loadtxt('hair5.txt')\n",
    "hair6=np.loadtxt('hair6.txt')\n",
    "hair7=np.loadtxt('hair7.txt')\n",
    "hair8=np.loadtxt('hair8.txt')\n",
    "hair9=np.loadtxt('hair9.txt')\n",
    "hair10=np.loadtxt('hair10.txt')\n",
    "\n",
    "laund1=np.loadtxt('laund1.txt')\n",
    "laund2=np.loadtxt('laund2.txt')\n",
    "laund3=np.loadtxt('laund3.txt')\n",
    "laund4=np.loadtxt('laund4.txt')\n",
    "laund5=np.loadtxt('laund5.txt')\n",
    "laund6=np.loadtxt('laund6.txt')\n",
    "laund7=np.loadtxt('laund7.txt')\n",
    "laund8=np.loadtxt('laund8.txt')\n",
    "laund9=np.loadtxt('laund9.txt')\n",
    "laund10=np.loadtxt('laund10.txt')\n",
    "\n",
    "eat1=np.loadtxt('eat1.txt')\n",
    "eat2=np.loadtxt('eat2.txt')\n",
    "eat3=np.loadtxt('eat3.txt')\n",
    "eat4=np.loadtxt('eat4.txt')\n",
    "eat5=np.loadtxt('eat5.txt')\n",
    "eat6=np.loadtxt('eat6.txt')\n",
    "eat7=np.loadtxt('eat7.txt')\n",
    "eat8=np.loadtxt('eat8.txt')\n",
    "eat9=np.loadtxt('eat9.txt')\n",
    "eat10=np.loadtxt('eat10.txt')\n",
    "\n",
    "vac1=np.loadtxt('vac1.txt')\n",
    "vac2=np.loadtxt('vac2.txt')\n",
    "vac3=np.loadtxt('vac3.txt')\n",
    "vac4=np.loadtxt('vac4.txt')\n",
    "vac5=np.loadtxt('vac5.txt')\n",
    "vac6=np.loadtxt('vac6.txt')\n",
    "vac7=np.loadtxt('vac7.txt')\n",
    "vac8=np.loadtxt('vac8.txt')\n",
    "vac9=np.loadtxt('vac9.txt')\n",
    "vac10=np.loadtxt('vac10.txt')\n",
    "\n",
    "\n",
    "train=np.ndarray((40,39000))\n",
    "test=np.ndarray((10,39000))\n",
    "\n",
    "train[0]=type1\n",
    "train[1]=type2\n",
    "train[2]=type3\n",
    "train[3]=type4\n",
    "train[4]=type5\n",
    "train[5]=type6\n",
    "train[6]=type7\n",
    "train[7]=type8\n",
    "\n",
    "train[8]=laund1\n",
    "train[9]=laund2\n",
    "train[10]=laund3\n",
    "train[11]=laund4\n",
    "train[12]=laund5\n",
    "train[13]=laund6\n",
    "train[14]=laund7\n",
    "train[15]=laund8\n",
    "\n",
    "train[16]=hair1\n",
    "train[17]=hair2\n",
    "train[18]=hair3\n",
    "train[19]=hair4\n",
    "train[20]=hair5\n",
    "train[21]=hair6\n",
    "train[22]=hair7\n",
    "train[23]=hair8\n",
    "\n",
    "train[24]=eat1\n",
    "train[25]=eat2\n",
    "train[26]=eat3\n",
    "train[27]=eat4\n",
    "train[28]=eat5\n",
    "train[29]=eat6\n",
    "train[30]=eat7\n",
    "train[31]=eat8\n",
    "\n",
    "train[32]=vac1\n",
    "train[33]=vac2\n",
    "train[34]=vac3\n",
    "train[35]=vac4\n",
    "train[36]=vac5\n",
    "train[37]=vac6\n",
    "train[38]=vac7\n",
    "train[39]=vac8\n",
    "\n",
    "test[0]=type9\n",
    "test[1]=type10\n",
    "test[2]=laund9\n",
    "test[3]=laund10\n",
    "test[4]=hair9\n",
    "test[5]=hair10\n",
    "test[6]=eat9\n",
    "test[7]=eat10\n",
    "test[8]=vac9\n",
    "test[9]=vac10\n",
    "\n",
    "trlab=np.zeros(40)\n",
    "tslab=np.zeros(10)\n",
    "\n",
    "for i in range(8,16):\n",
    "    trlab[i]=1\n",
    "for i in range(16,24):\n",
    "    trlab[i]=2\n",
    "for i in range(24,32):\n",
    "    trlab[i]=3\n",
    "for i in range(32,40):\n",
    "    trlab[i]=4\n",
    "\n",
    "tslab[2]=1\n",
    "tslab[3]=1\n",
    "tslab[4]=2\n",
    "tslab[5]=2\n",
    "tslab[6]=3\n",
    "tslab[7]=3\n",
    "tslab[8]=4\n",
    "tslab[9]=4"
   ]
  },
  {
   "cell_type": "code",
   "execution_count": 3,
   "metadata": {},
   "outputs": [],
   "source": [
    "clf=sk.LogisticRegression(solver='sag',multi_class='multinomial')"
   ]
  },
  {
   "cell_type": "code",
   "execution_count": 4,
   "metadata": {},
   "outputs": [
    {
     "name": "stderr",
     "output_type": "stream",
     "text": [
      "/usr/lib/python3/dist-packages/sklearn/linear_model/sag.py:286: ConvergenceWarning: The max_iter was reached which means the coef_ did not converge\n",
      "  \"the coef_ did not converge\", ConvergenceWarning)\n"
     ]
    },
    {
     "data": {
      "text/plain": [
       "LogisticRegression(C=1.0, class_weight=None, dual=False, fit_intercept=True,\n",
       "          intercept_scaling=1, max_iter=100, multi_class='multinomial',\n",
       "          n_jobs=1, penalty='l2', random_state=None, solver='sag',\n",
       "          tol=0.0001, verbose=0, warm_start=False)"
      ]
     },
     "execution_count": 4,
     "metadata": {},
     "output_type": "execute_result"
    }
   ],
   "source": [
    "clf.fit(X=train,y=trlab)"
   ]
  },
  {
   "cell_type": "code",
   "execution_count": 5,
   "metadata": {},
   "outputs": [
    {
     "data": {
      "text/plain": [
       "array([ 2.,  2.,  1.,  1.,  2.,  2.])"
      ]
     },
     "execution_count": 5,
     "metadata": {},
     "output_type": "execute_result"
    }
   ],
   "source": [
    "clf.predict(test)"
   ]
  },
  {
   "cell_type": "code",
   "execution_count": 6,
   "metadata": {},
   "outputs": [
    {
     "data": {
      "text/plain": [
       "0.66666666666666663"
      ]
     },
     "execution_count": 6,
     "metadata": {},
     "output_type": "execute_result"
    }
   ],
   "source": [
    "clf.score(test,tslab)"
   ]
  },
  {
   "cell_type": "code",
   "execution_count": 3,
   "metadata": {},
   "outputs": [],
   "source": [
    "clf1=svk.SVC()"
   ]
  },
  {
   "cell_type": "code",
   "execution_count": 4,
   "metadata": {},
   "outputs": [
    {
     "data": {
      "text/plain": [
       "SVC(C=1.0, cache_size=200, class_weight=None, coef0=0.0,\n",
       "  decision_function_shape='ovr', degree=3, gamma='auto', kernel='rbf',\n",
       "  max_iter=-1, probability=False, random_state=None, shrinking=True,\n",
       "  tol=0.001, verbose=False)"
      ]
     },
     "execution_count": 4,
     "metadata": {},
     "output_type": "execute_result"
    }
   ],
   "source": [
    "clf1.fit(train,trlab)"
   ]
  },
  {
   "cell_type": "code",
   "execution_count": 5,
   "metadata": {},
   "outputs": [
    {
     "data": {
      "text/plain": [
       "array([0., 0., 1., 1., 2., 2., 3., 3.])"
      ]
     },
     "execution_count": 5,
     "metadata": {},
     "output_type": "execute_result"
    }
   ],
   "source": [
    "clf1.predict(test)"
   ]
  },
  {
   "cell_type": "code",
   "execution_count": 6,
   "metadata": {},
   "outputs": [
    {
     "data": {
      "text/plain": [
       "1.0"
      ]
     },
     "execution_count": 6,
     "metadata": {},
     "output_type": "execute_result"
    }
   ],
   "source": [
    "clf1.score(test,tslab)"
   ]
  },
  {
   "cell_type": "code",
   "execution_count": null,
   "metadata": {},
   "outputs": [],
   "source": []
  }
 ],
 "metadata": {
  "kernelspec": {
   "display_name": "Python 3",
   "language": "python",
   "name": "python3"
  },
  "language_info": {
   "codemirror_mode": {
    "name": "ipython",
    "version": 3
   },
   "file_extension": ".py",
   "mimetype": "text/x-python",
   "name": "python",
   "nbconvert_exporter": "python",
   "pygments_lexer": "ipython3",
   "version": "3.7.0"
  }
 },
 "nbformat": 4,
 "nbformat_minor": 2
}
