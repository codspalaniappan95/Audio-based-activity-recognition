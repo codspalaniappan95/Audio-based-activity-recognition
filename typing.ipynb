{
 "cells": [
  {
   "cell_type": "code",
   "execution_count": 1,
   "metadata": {},
   "outputs": [],
   "source": [
    "import numpy as np\n",
    "import scipy\n",
    "import soundfile as sf\n",
    "s1,f1=sf.read('test1.wav')\n",
    "s2,f2=sf.read('test2.wav')\n",
    "s3,f3=sf.read('test3.wav')\n",
    "s4,f4=sf.read('test4.wav')\n",
    "s5,f5=sf.read('test5.wav')\n",
    "s6,f6=sf.read('test6.wav')\n",
    "s7,f7=sf.read('test7.wav')\n",
    "s8,f8=sf.read('test8.wav')\n",
    "s9,f9=sf.read('test9.wav')\n",
    "s10,f10=sf.read('test10.wav')"
   ]
  },
  {
   "cell_type": "code",
   "execution_count": 2,
   "metadata": {},
   "outputs": [],
   "source": [
    "import sklearn"
   ]
  },
  {
   "cell_type": "code",
   "execution_count": 3,
   "metadata": {},
   "outputs": [
    {
     "data": {
      "text/plain": [
       "(1000, 1200, 480)"
      ]
     },
     "execution_count": 3,
     "metadata": {},
     "output_type": "execute_result"
    }
   ],
   "source": [
    "overlap=int(f1*0.01)\n",
    "no_frames=int(len(s1)/overlap)\n",
    "framesize=int(f1*0.025)\n",
    "no_frames,framesize,overlap"
   ]
  },
  {
   "cell_type": "code",
   "execution_count": 4,
   "metadata": {},
   "outputs": [],
   "source": [
    "frames1=np.zeros((no_frames,framesize))\n",
    "frames2=np.zeros((no_frames,framesize))\n",
    "frames3=np.zeros((no_frames,framesize))\n",
    "frames4=np.zeros((no_frames,framesize))\n",
    "frames5=np.zeros((no_frames,framesize))\n",
    "frames6=np.zeros((no_frames,framesize))\n",
    "frames7=np.zeros((no_frames,framesize))\n",
    "frames8=np.zeros((no_frames,framesize))\n",
    "frames9=np.zeros((no_frames,framesize))\n",
    "frames10=np.zeros((no_frames,framesize))\n",
    "for i in range(0,no_frames):\n",
    "    for j in range(0,framesize):\n",
    "        t=i*overlap+j\n",
    "        if t<len(s1):\n",
    "            frames1[i][j]=s1[t]\n",
    "            frames2[i][j]=s2[t]\n",
    "            frames3[i][j]=s3[t]\n",
    "            frames4[i][j]=s4[t]\n",
    "            frames5[i][j]=s5[t]\n",
    "            frames6[i][j]=s6[t]\n",
    "            frames7[i][j]=s7[t]\n",
    "            frames8[i][j]=s8[t]\n",
    "            frames9[i][j]=s9[t]\n",
    "            frames10[i][j]=s10[t]"
   ]
  },
  {
   "cell_type": "code",
   "execution_count": 5,
   "metadata": {},
   "outputs": [],
   "source": [
    "comp_spec1=np.fft.rfft(frames1,2048)\n",
    "comp_spec1=np.absolute(comp_spec1)\n",
    "\n",
    "comp_spec2=np.fft.rfft(frames2,2048)\n",
    "comp_spec2=np.absolute(comp_spec2)\n",
    "\n",
    "comp_spec3=np.fft.rfft(frames3,2048)\n",
    "comp_spec3=np.absolute(comp_spec3)\n",
    "\n",
    "comp_spec4=np.fft.rfft(frames4,2048)\n",
    "comp_spec4=np.absolute(comp_spec4)\n",
    "\n",
    "comp_spec5=np.fft.rfft(frames5,2048)\n",
    "comp_spec5=np.absolute(comp_spec5)\n",
    "\n",
    "comp_spec6=np.fft.rfft(frames6,2048)\n",
    "comp_spec6=np.absolute(comp_spec6)\n",
    "\n",
    "comp_spec7=np.fft.rfft(frames7,2048)\n",
    "comp_spec7=np.absolute(comp_spec7)\n",
    "\n",
    "comp_spec8=np.fft.rfft(frames8,2048)\n",
    "comp_spec8=np.absolute(comp_spec8)\n",
    "\n",
    "comp_spec9=np.fft.rfft(frames9,2048)\n",
    "comp_spec9=np.absolute(comp_spec9)\n",
    "\n",
    "comp_spec10=np.fft.rfft(frames10,2048)\n",
    "comp_spec10=np.absolute(comp_spec10)"
   ]
  },
  {
   "cell_type": "code",
   "execution_count": 6,
   "metadata": {},
   "outputs": [],
   "source": [
    "pow_spec1=(1/2048)*(np.square(comp_spec1))\n",
    "pow_spec2=(1/2048)*(np.square(comp_spec2))\n",
    "pow_spec3=(1/2048)*(np.square(comp_spec3))\n",
    "pow_spec4=(1/2048)*(np.square(comp_spec4))\n",
    "pow_spec5=(1/2048)*(np.square(comp_spec5))\n",
    "pow_spec6=(1/2048)*(np.square(comp_spec6))\n",
    "pow_spec7=(1/2048)*(np.square(comp_spec7))\n",
    "pow_spec8=(1/2048)*(np.square(comp_spec8))\n",
    "pow_spec9=(1/2048)*(np.square(comp_spec9))\n",
    "pow_spec10=(1/2048)*(np.square(comp_spec10))"
   ]
  },
  {
   "cell_type": "code",
   "execution_count": 7,
   "metadata": {},
   "outputs": [],
   "source": [
    "lowfreq=0\n",
    "highfreq=2595*np.log10(1+24000/700.)"
   ]
  },
  {
   "cell_type": "code",
   "execution_count": 8,
   "metadata": {},
   "outputs": [],
   "source": [
    "melpoints = np.linspace(lowfreq,highfreq,22)"
   ]
  },
  {
   "cell_type": "code",
   "execution_count": 9,
   "metadata": {},
   "outputs": [],
   "source": [
    "melpoints1=700*(10**(melpoints/2595.0)-1)"
   ]
  },
  {
   "cell_type": "code",
   "execution_count": 10,
   "metadata": {},
   "outputs": [],
   "source": [
    "bins=np.floor((2049)*melpoints1/48000)"
   ]
  },
  {
   "cell_type": "code",
   "execution_count": 11,
   "metadata": {},
   "outputs": [],
   "source": [
    "fbank = np.zeros((20,1025))\n",
    "for j in range(0,20):\n",
    "    for i in range(int(bins[j]), int(bins[j+1])):\n",
    "        fbank[j,i] = (i - bins[j]) / (bins[j+1]-bins[j])\n",
    "    for i in range(int(bins[j+1]), int(bins[j+2])):\n",
    "        fbank[j,i] = (bins[j+2]-i) / (bins[j+2]-bins[j+1])"
   ]
  },
  {
   "cell_type": "code",
   "execution_count": 12,
   "metadata": {},
   "outputs": [],
   "source": [
    "feat1=np.dot(pow_spec1,fbank.T)\n",
    "feat2=np.dot(pow_spec2,fbank.T)\n",
    "feat3=np.dot(pow_spec3,fbank.T)\n",
    "feat4=np.dot(pow_spec4,fbank.T)\n",
    "feat5=np.dot(pow_spec5,fbank.T)\n",
    "feat6=np.dot(pow_spec6,fbank.T)\n",
    "feat7=np.dot(pow_spec7,fbank.T)\n",
    "feat8=np.dot(pow_spec8,fbank.T)\n",
    "feat9=np.dot(pow_spec9,fbank.T)\n",
    "feat10=np.dot(pow_spec10,fbank.T)"
   ]
  },
  {
   "cell_type": "code",
   "execution_count": 13,
   "metadata": {},
   "outputs": [],
   "source": [
    "feat1=np.where(feat1==0,np.finfo(float).eps,feat1)\n",
    "feat2=np.where(feat2==0,np.finfo(float).eps,feat2)\n",
    "feat3=np.where(feat3==0,np.finfo(float).eps,feat3)\n",
    "feat4=np.where(feat4==0,np.finfo(float).eps,feat4)\n",
    "feat5=np.where(feat5==0,np.finfo(float).eps,feat5)\n",
    "feat6=np.where(feat6==0,np.finfo(float).eps,feat6)\n",
    "feat7=np.where(feat7==0,np.finfo(float).eps,feat7)\n",
    "feat8=np.where(feat8==0,np.finfo(float).eps,feat8)\n",
    "feat9=np.where(feat9==0,np.finfo(float).eps,feat9)\n",
    "feat10=np.where(feat10==0,np.finfo(float).eps,feat10)"
   ]
  },
  {
   "cell_type": "code",
   "execution_count": 14,
   "metadata": {},
   "outputs": [],
   "source": [
    "feat1=np.log(feat1)\n",
    "feat2=np.log(feat2)\n",
    "feat3=np.log(feat3)\n",
    "feat4=np.log(feat4)\n",
    "feat5=np.log(feat5)\n",
    "feat6=np.log(feat6)\n",
    "feat7=np.log(feat7)\n",
    "feat8=np.log(feat8)\n",
    "feat9=np.log(feat9)\n",
    "feat10=np.log(feat10)"
   ]
  },
  {
   "cell_type": "code",
   "execution_count": 16,
   "metadata": {},
   "outputs": [],
   "source": [
    "import scipy.fftpack\n",
    "feat1=scipy.fftpack.dct(feat1,norm='ortho')\n",
    "feat2=scipy.fftpack.dct(feat2,norm='ortho')\n",
    "feat3=scipy.fftpack.dct(feat3,norm='ortho')\n",
    "feat4=scipy.fftpack.dct(feat4,norm='ortho')\n",
    "feat5=scipy.fftpack.dct(feat5,norm='ortho')\n",
    "feat6=scipy.fftpack.dct(feat6,norm='ortho')\n",
    "feat7=scipy.fftpack.dct(feat7,norm='ortho')\n",
    "feat8=scipy.fftpack.dct(feat8,norm='ortho')\n",
    "feat9=scipy.fftpack.dct(feat9,norm='ortho')\n",
    "feat10=scipy.fftpack.dct(feat10,norm='ortho')"
   ]
  },
  {
   "cell_type": "code",
   "execution_count": 17,
   "metadata": {},
   "outputs": [],
   "source": [
    "feat1=feat1[:,:13]\n",
    "feat2=feat2[:,:13]\n",
    "feat3=feat3[:,:13]\n",
    "feat4=feat4[:,:13]\n",
    "feat5=feat5[:,:13]\n",
    "feat6=feat6[:,:13]\n",
    "feat7=feat7[:,:13]\n",
    "feat8=feat8[:,:13]\n",
    "feat9=feat9[:,:13]\n",
    "feat10=feat10[:,:13]"
   ]
  },
  {
   "cell_type": "code",
   "execution_count": 18,
   "metadata": {},
   "outputs": [],
   "source": [
    "pad1=np.zeros((1000,17))\n",
    "pad2=np.zeros((1000,17))\n",
    "pad3=np.zeros((1000,17))\n",
    "pad4=np.zeros((1000,17))\n",
    "pad5=np.zeros((1000,17))\n",
    "pad6=np.zeros((1000,17))\n",
    "pad7=np.zeros((1000,17))\n",
    "pad8=np.zeros((1000,17))\n",
    "pad9=np.zeros((1000,17))\n",
    "pad10=np.zeros((1000,17))\n",
    "for i in range(0,1000):\n",
    "    for j in range(2,15):\n",
    "        pad1[i][j]=feat1[i][j-2]\n",
    "        pad2[i][j]=feat2[i][j-2]\n",
    "        pad3[i][j]=feat3[i][j-2]\n",
    "        pad4[i][j]=feat4[i][j-2]\n",
    "        pad5[i][j]=feat5[i][j-2]\n",
    "        pad6[i][j]=feat6[i][j-2]\n",
    "        pad7[i][j]=feat7[i][j-2]\n",
    "        pad8[i][j]=feat8[i][j-2]\n",
    "        pad9[i][j]=feat9[i][j-2]\n",
    "        pad10[i][j]=feat10[i][j-2]\n",
    "        \n",
    "delta1=np.zeros((1000,13))\n",
    "delta2=np.zeros((1000,13))\n",
    "delta3=np.zeros((1000,13))\n",
    "delta4=np.zeros((1000,13))\n",
    "delta5=np.zeros((1000,13))\n",
    "delta6=np.zeros((1000,13))\n",
    "delta7=np.zeros((1000,13))\n",
    "delta8=np.zeros((1000,13))\n",
    "delta9=np.zeros((1000,13))\n",
    "delta10=np.zeros((1000,13))\n",
    "for i in range(0,1000):\n",
    "    for t in range(0,13):\n",
    "        delta1[i][t]=np.dot(np.arange(-2,3),pad1[i][t:t+5])/10\n",
    "        delta2[i][t]=np.dot(np.arange(-2,3),pad2[i][t:t+5])/10\n",
    "        delta3[i][t]=np.dot(np.arange(-2,3),pad3[i][t:t+5])/10\n",
    "        delta4[i][t]=np.dot(np.arange(-2,3),pad4[i][t:t+5])/10\n",
    "        delta5[i][t]=np.dot(np.arange(-2,3),pad5[i][t:t+5])/10\n",
    "        delta6[i][t]=np.dot(np.arange(-2,3),pad5[i][t:t+5])/10\n",
    "        delta7[i][t]=np.dot(np.arange(-2,3),pad5[i][t:t+5])/10\n",
    "        delta8[i][t]=np.dot(np.arange(-2,3),pad5[i][t:t+5])/10\n",
    "        delta9[i][t]=np.dot(np.arange(-2,3),pad5[i][t:t+5])/10\n",
    "        delta10[i][t]=np.dot(np.arange(-2,3),pad5[i][t:t+5])/10\n",
    "        \n",
    "dpad1=np.zeros((1000,17))\n",
    "dpad2=np.zeros((1000,17))\n",
    "dpad3=np.zeros((1000,17))\n",
    "dpad4=np.zeros((1000,17))\n",
    "dpad5=np.zeros((1000,17))\n",
    "dpad6=np.zeros((1000,17))\n",
    "dpad7=np.zeros((1000,17))\n",
    "dpad8=np.zeros((1000,17))\n",
    "dpad9=np.zeros((1000,17))\n",
    "dpad10=np.zeros((1000,17))\n",
    "for i in range(0,1000):\n",
    "    for j in range(2,15):\n",
    "        dpad1[i][j]=pad1[i][j-2]\n",
    "        dpad2[i][j]=pad2[i][j-2]\n",
    "        dpad3[i][j]=pad3[i][j-2]\n",
    "        dpad4[i][j]=pad4[i][j-2]\n",
    "        dpad5[i][j]=pad5[i][j-2]\n",
    "        dpad6[i][j]=pad6[i][j-2]\n",
    "        dpad7[i][j]=pad7[i][j-2]\n",
    "        dpad8[i][j]=pad8[i][j-2]\n",
    "        dpad9[i][j]=pad9[i][j-2]\n",
    "        dpad10[i][j]=pad10[i][j-2]\n",
    "        \n",
    "ddelta1=np.zeros((1000,13))\n",
    "ddelta2=np.zeros((1000,13))\n",
    "ddelta3=np.zeros((1000,13))\n",
    "ddelta4=np.zeros((1000,13))\n",
    "ddelta5=np.zeros((1000,13))\n",
    "ddelta6=np.zeros((1000,13))\n",
    "ddelta7=np.zeros((1000,13))\n",
    "ddelta8=np.zeros((1000,13))\n",
    "ddelta9=np.zeros((1000,13))\n",
    "ddelta10=np.zeros((1000,13))\n",
    "for i in range(0,1000):\n",
    "    for t in range(0,13):\n",
    "        ddelta1[i][t]=np.dot(np.arange(-2,3),dpad1[i][t:t+5])/10\n",
    "        ddelta2[i][t]=np.dot(np.arange(-2,3),dpad2[i][t:t+5])/10\n",
    "        ddelta3[i][t]=np.dot(np.arange(-2,3),dpad3[i][t:t+5])/10\n",
    "        ddelta4[i][t]=np.dot(np.arange(-2,3),dpad4[i][t:t+5])/10\n",
    "        ddelta5[i][t]=np.dot(np.arange(-2,3),dpad5[i][t:t+5])/10\n",
    "        ddelta6[i][t]=np.dot(np.arange(-2,3),dpad6[i][t:t+5])/10\n",
    "        ddelta7[i][t]=np.dot(np.arange(-2,3),dpad7[i][t:t+5])/10\n",
    "        ddelta8[i][t]=np.dot(np.arange(-2,3),dpad8[i][t:t+5])/10\n",
    "        ddelta9[i][t]=np.dot(np.arange(-2,3),dpad9[i][t:t+5])/10\n",
    "        ddelta10[i][t]=np.dot(np.arange(-2,3),dpad10[i][t:t+5])/10\n",
    "        \n",
    "featvect1=np.zeros((1000,39))\n",
    "featvect2=np.zeros((1000,39))\n",
    "featvect3=np.zeros((1000,39))\n",
    "featvect4=np.zeros((1000,39))\n",
    "featvect5=np.zeros((1000,39))\n",
    "featvect6=np.zeros((1000,39))\n",
    "featvect7=np.zeros((1000,39))\n",
    "featvect8=np.zeros((1000,39))\n",
    "featvect9=np.zeros((1000,39))\n",
    "featvect10=np.zeros((1000,39))\n",
    "for i in range(0,1000):\n",
    "    for j in range(0,13):\n",
    "        featvect1[i][j]=feat1[i][j]\n",
    "        featvect1[i][j+13]=delta1[i][j]\n",
    "        featvect1[i][j+26]=ddelta1[i][j]\n",
    "        \n",
    "        featvect2[i][j]=feat2[i][j]\n",
    "        featvect2[i][j+13]=delta2[i][j]\n",
    "        featvect2[i][j+26]=ddelta2[i][j]\n",
    "        \n",
    "        featvect3[i][j]=feat3[i][j]\n",
    "        featvect3[i][j+13]=delta3[i][j]\n",
    "        featvect3[i][j+26]=ddelta3[i][j]\n",
    "        \n",
    "        featvect4[i][j]=feat4[i][j]\n",
    "        featvect4[i][j+13]=delta4[i][j]\n",
    "        featvect4[i][j+26]=ddelta4[i][j]\n",
    "        \n",
    "        \n",
    "        featvect5[i][j]=feat5[i][j]\n",
    "        featvect5[i][j+13]=delta5[i][j]\n",
    "        featvect5[i][j+26]=ddelta5[i][j]\n",
    "        \n",
    "        featvect6[i][j]=feat6[i][j]\n",
    "        featvect6[i][j+13]=delta6[i][j]\n",
    "        featvect6[i][j+26]=ddelta6[i][j]\n",
    "        \n",
    "        featvect7[i][j]=feat7[i][j]\n",
    "        featvect7[i][j+13]=delta7[i][j]\n",
    "        featvect7[i][j+26]=ddelta7[i][j]\n",
    "        \n",
    "        featvect8[i][j]=feat8[i][j]\n",
    "        featvect8[i][j+13]=delta8[i][j]\n",
    "        featvect8[i][j+26]=ddelta8[i][j]\n",
    "        \n",
    "        featvect9[i][j]=feat9[i][j]\n",
    "        featvect9[i][j+13]=delta9[i][j]\n",
    "        featvect9[i][j+26]=ddelta9[i][j]\n",
    "        \n",
    "        featvect10[i][j]=feat10[i][j]\n",
    "        featvect10[i][j+13]=delta10[i][j]\n",
    "        featvect10[i][j+26]=ddelta10[i][j]\n",
    "        \n",
    "featvect1=featvect1.reshape(1,-1)\n",
    "featvect2=featvect2.reshape(1,-1)\n",
    "featvect3=featvect3.reshape(1,-1)\n",
    "featvect4=featvect4.reshape(1,-1)\n",
    "featvect5=featvect5.reshape(1,-1)\n",
    "featvect6=featvect6.reshape(1,-1)\n",
    "featvect7=featvect7.reshape(1,-1)\n",
    "featvect8=featvect8.reshape(1,-1)\n",
    "featvect9=featvect9.reshape(1,-1)\n",
    "featvect10=featvect10.reshape(1,-1)\n",
    "\n",
    "np.savetxt('type1.txt',featvect1)\n",
    "np.savetxt('type2.txt',featvect2)\n",
    "np.savetxt('type3.txt',featvect3)\n",
    "np.savetxt('type4.txt',featvect4)\n",
    "np.savetxt('type5.txt',featvect5)\n",
    "np.savetxt('type6.txt',featvect6)\n",
    "np.savetxt('type7.txt',featvect7)\n",
    "np.savetxt('type8.txt',featvect8)\n",
    "np.savetxt('type9.txt',featvect9)\n",
    "np.savetxt('type10.txt',featvect10)"
   ]
  },
  {
   "cell_type": "code",
   "execution_count": 121,
   "metadata": {},
   "outputs": [],
   "source": []
  },
  {
   "cell_type": "code",
   "execution_count": 111,
   "metadata": {},
   "outputs": [],
   "source": [
    "for i in range(0,2):\n",
    "    for j in range(0,3):\n",
    "        a[i][j]=i*j"
   ]
  },
  {
   "cell_type": "code",
   "execution_count": 114,
   "metadata": {},
   "outputs": [
    {
     "data": {
      "text/plain": [
       "(13000, 1)"
      ]
     },
     "execution_count": 114,
     "metadata": {},
     "output_type": "execute_result"
    }
   ],
   "source": []
  },
  {
   "cell_type": "code",
   "execution_count": 123,
   "metadata": {},
   "outputs": [
    {
     "data": {
      "text/plain": [
       "48000"
      ]
     },
     "execution_count": 123,
     "metadata": {},
     "output_type": "execute_result"
    }
   ],
   "source": [
    "f1"
   ]
  },
  {
   "cell_type": "code",
   "execution_count": 87,
   "metadata": {},
   "outputs": [
    {
     "data": {
      "text/plain": [
       "(-2.4851544698079426e-05, 1.7060597737630208e-06)"
      ]
     },
     "execution_count": 87,
     "metadata": {},
     "output_type": "execute_result"
    }
   ],
   "source": []
  },
  {
   "cell_type": "code",
   "execution_count": null,
   "metadata": {},
   "outputs": [],
   "source": [
    "+"
   ]
  }
 ],
 "metadata": {
  "kernelspec": {
   "display_name": "Python 3",
   "language": "python",
   "name": "python3"
  },
  "language_info": {
   "codemirror_mode": {
    "name": "ipython",
    "version": 3
   },
   "file_extension": ".py",
   "mimetype": "text/x-python",
   "name": "python",
   "nbconvert_exporter": "python",
   "pygments_lexer": "ipython3",
   "version": "3.5.3"
  }
 },
 "nbformat": 4,
 "nbformat_minor": 2
}
