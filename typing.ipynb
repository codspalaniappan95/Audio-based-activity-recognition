{
 "cells": [
  {
   "cell_type": "code",
   "execution_count": 58,
   "metadata": {},
   "outputs": [],
   "source": [
    "import numpy as np\n",
    "import scipy\n",
    "import soundfile as sf\n",
    "s1,f1=sf.read('test1.wav')\n",
    "s2,f2=sf.read('test2.wav')\n",
    "s3,f3=sf.read('test3.wav')\n",
    "s4,f4=sf.read('test4.wav')\n",
    "s5,f5=sf.read('test5.wav')"
   ]
  },
  {
   "cell_type": "code",
   "execution_count": 6,
   "metadata": {},
   "outputs": [],
   "source": [
    "import sklearn"
   ]
  },
  {
   "cell_type": "code",
   "execution_count": 11,
   "metadata": {},
   "outputs": [
    {
     "data": {
      "text/plain": [
       "(1000, 1200, 480)"
      ]
     },
     "execution_count": 11,
     "metadata": {},
     "output_type": "execute_result"
    }
   ],
   "source": [
    "overlap=int(f1*0.01)\n",
    "no_frames=int(len(s1)/overlap)\n",
    "framesize=int(f1*0.025)\n",
    "no_frames,framesize,overlap"
   ]
  },
  {
   "cell_type": "code",
   "execution_count": 59,
   "metadata": {},
   "outputs": [],
   "source": [
    "frames1=np.zeros((no_frames,framesize))\n",
    "frames2=np.zeros((no_frames,framesize))\n",
    "frames3=np.zeros((no_frames,framesize))\n",
    "frames4=np.zeros((no_frames,framesize))\n",
    "frames5=np.zeros((no_frames,framesize))\n",
    "for i in range(0,no_frames):\n",
    "    for j in range(0,framesize):\n",
    "        t=i*overlap+j\n",
    "        if t<len(s1):\n",
    "            frames1[i][j]=s1[t]\n",
    "            frames2[i][j]=s2[t]\n",
    "            frames3[i][j]=s3[t]\n",
    "            frames4[i][j]=s4[t]\n",
    "            frames5[i][j]=s5[t]"
   ]
  },
  {
   "cell_type": "code",
   "execution_count": 60,
   "metadata": {},
   "outputs": [],
   "source": [
    "comp_spec1=np.fft.rfft(frames1,2048)\n",
    "comp_spec1=np.absolute(comp_spec1)\n",
    "\n",
    "comp_spec2=np.fft.rfft(frames2,2048)\n",
    "comp_spec2=np.absolute(comp_spec2)\n",
    "\n",
    "comp_spec3=np.fft.rfft(frames3,2048)\n",
    "comp_spec3=np.absolute(comp_spec3)\n",
    "\n",
    "comp_spec4=np.fft.rfft(frames4,2048)\n",
    "comp_spec4=np.absolute(comp_spec4)\n",
    "\n",
    "comp_spec5=np.fft.rfft(frames5,2048)\n",
    "comp_spec5=np.absolute(comp_spec5)"
   ]
  },
  {
   "cell_type": "code",
   "execution_count": 61,
   "metadata": {},
   "outputs": [],
   "source": [
    "pow_spec1=(1/2048)*(np.square(comp_spec1))\n",
    "pow_spec2=(1/2048)*(np.square(comp_spec2))\n",
    "pow_spec3=(1/2048)*(np.square(comp_spec3))\n",
    "pow_spec4=(1/2048)*(np.square(comp_spec4))\n",
    "pow_spec5=(1/2048)*(np.square(comp_spec5))"
   ]
  },
  {
   "cell_type": "code",
   "execution_count": 44,
   "metadata": {},
   "outputs": [],
   "source": [
    "lowfreq=0\n",
    "highfreq=2595*np.log10(1+24000/700.)"
   ]
  },
  {
   "cell_type": "code",
   "execution_count": 45,
   "metadata": {},
   "outputs": [],
   "source": [
    "melpoints = np.linspace(lowfreq,highfreq,22)"
   ]
  },
  {
   "cell_type": "code",
   "execution_count": 46,
   "metadata": {},
   "outputs": [],
   "source": [
    "melpoints1=700*(10**(melpoints/2595.0)-1)"
   ]
  },
  {
   "cell_type": "code",
   "execution_count": 47,
   "metadata": {},
   "outputs": [],
   "source": [
    "bins=np.floor((2049)*melpoints1/48000)"
   ]
  },
  {
   "cell_type": "code",
   "execution_count": 48,
   "metadata": {},
   "outputs": [],
   "source": [
    "fbank = np.zeros((20,1025))\n",
    "for j in range(0,20):\n",
    "    for i in range(int(bins[j]), int(bins[j+1])):\n",
    "        fbank[j,i] = (i - bins[j]) / (bins[j+1]-bins[j])\n",
    "    for i in range(int(bins[j+1]), int(bins[j+2])):\n",
    "        fbank[j,i] = (bins[j+2]-i) / (bins[j+2]-bins[j+1])"
   ]
  },
  {
   "cell_type": "code",
   "execution_count": 116,
   "metadata": {},
   "outputs": [],
   "source": [
    "feat1=np.dot(pow_spec1,fbank.T)\n",
    "feat2=np.dot(pow_spec2,fbank.T)\n",
    "feat3=np.dot(pow_spec3,fbank.T)\n",
    "feat4=np.dot(pow_spec4,fbank.T)\n",
    "feat5=np.dot(pow_spec5,fbank.T)"
   ]
  },
  {
   "cell_type": "code",
   "execution_count": 117,
   "metadata": {},
   "outputs": [],
   "source": [
    "feat1=np.where(feat1==0,np.finfo(float).eps,feat1)\n",
    "feat2=np.where(feat2==0,np.finfo(float).eps,feat2)\n",
    "feat3=np.where(feat3==0,np.finfo(float).eps,feat3)\n",
    "feat4=np.where(feat4==0,np.finfo(float).eps,feat4)\n",
    "feat5=np.where(feat5==0,np.finfo(float).eps,feat5)"
   ]
  },
  {
   "cell_type": "code",
   "execution_count": 118,
   "metadata": {},
   "outputs": [],
   "source": [
    "feat1=np.log(feat1)\n",
    "feat2=np.log(feat2)\n",
    "feat3=np.log(feat3)\n",
    "feat4=np.log(feat4)\n",
    "feat5=np.log(feat5)"
   ]
  },
  {
   "cell_type": "code",
   "execution_count": 119,
   "metadata": {},
   "outputs": [],
   "source": [
    "feat1=scipy.fftpack.dct(feat1,norm='ortho')\n",
    "feat2=scipy.fftpack.dct(feat2,norm='ortho')\n",
    "feat3=scipy.fftpack.dct(feat3,norm='ortho')\n",
    "feat4=scipy.fftpack.dct(feat4,norm='ortho')\n",
    "feat5=scipy.fftpack.dct(feat5,norm='ortho')"
   ]
  },
  {
   "cell_type": "code",
   "execution_count": 53,
   "metadata": {},
   "outputs": [],
   "source": [
    "import scipy.fftpack"
   ]
  },
  {
   "cell_type": "code",
   "execution_count": 120,
   "metadata": {},
   "outputs": [],
   "source": [
    "feat1=feat1[:,:13]\n",
    "feat2=feat2[:,:13]\n",
    "feat3=feat3[:,:13]\n",
    "feat4=feat4[:,:13]\n",
    "feat5=feat5[:,:13]"
   ]
  },
  {
   "cell_type": "code",
   "execution_count": 122,
   "metadata": {},
   "outputs": [],
   "source": [
    "np.savetxt('type1.txt',feat1)\n",
    "np.savetxt('type2.txt',feat2)\n",
    "np.savetxt('type3.txt',feat3)\n",
    "np.savetxt('type4.txt',feat4)\n",
    "np.savetxt('type5.txt',feat5)"
   ]
  },
  {
   "cell_type": "code",
   "execution_count": 121,
   "metadata": {},
   "outputs": [],
   "source": [
    "feat1=feat1.reshape(1,-1)\n",
    "feat2=feat2.reshape(1,-1)\n",
    "feat3=feat3.reshape(1,-1)\n",
    "feat4=feat4.reshape(1,-1)\n",
    "feat5=feat5.reshape(1,-1)"
   ]
  },
  {
   "cell_type": "code",
   "execution_count": 111,
   "metadata": {},
   "outputs": [],
   "source": [
    "for i in range(0,2):\n",
    "    for j in range(0,3):\n",
    "        a[i][j]=i*j"
   ]
  },
  {
   "cell_type": "code",
   "execution_count": 114,
   "metadata": {},
   "outputs": [
    {
     "data": {
      "text/plain": [
       "(13000, 1)"
      ]
     },
     "execution_count": 114,
     "metadata": {},
     "output_type": "execute_result"
    }
   ],
   "source": []
  },
  {
   "cell_type": "code",
   "execution_count": 123,
   "metadata": {},
   "outputs": [
    {
     "data": {
      "text/plain": [
       "48000"
      ]
     },
     "execution_count": 123,
     "metadata": {},
     "output_type": "execute_result"
    }
   ],
   "source": [
    "f1"
   ]
  },
  {
   "cell_type": "code",
   "execution_count": 87,
   "metadata": {},
   "outputs": [
    {
     "data": {
      "text/plain": [
       "(-2.4851544698079426e-05, 1.7060597737630208e-06)"
      ]
     },
     "execution_count": 87,
     "metadata": {},
     "output_type": "execute_result"
    }
   ],
   "source": []
  },
  {
   "cell_type": "code",
   "execution_count": null,
   "metadata": {},
   "outputs": [],
   "source": [
    "+"
   ]
  }
 ],
 "metadata": {
  "kernelspec": {
   "display_name": "Python 3",
   "language": "python",
   "name": "python3"
  },
  "language_info": {
   "codemirror_mode": {
    "name": "ipython",
    "version": 3
   },
   "file_extension": ".py",
   "mimetype": "text/x-python",
   "name": "python",
   "nbconvert_exporter": "python",
   "pygments_lexer": "ipython3",
   "version": "3.5.3"
  }
 },
 "nbformat": 4,
 "nbformat_minor": 2
}
