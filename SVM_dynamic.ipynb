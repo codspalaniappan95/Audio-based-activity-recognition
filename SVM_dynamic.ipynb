{
 "cells": [
  {
   "cell_type": "code",
   "execution_count": 32,
   "metadata": {},
   "outputs": [],
   "source": [
    "import numpy as np\n",
    "import sklearn.linear_model as sk\n",
    "import sklearn.svm as svk\n",
    "import os\n",
    "from sklearn.model_selection import train_test_split"
   ]
  },
  {
   "cell_type": "code",
   "execution_count": 162,
   "metadata": {},
   "outputs": [],
   "source": [
    "ltype=os.listdir(\"/Sivasankar/UCSD/Winter2019/CSE237A/finalproj/data/type\")\n",
    "leat=os.listdir(\"/Sivasankar/UCSD/Winter2019/CSE237A/finalproj/data/eat\")\n",
    "lhair=os.listdir(\"/Sivasankar/UCSD/Winter2019/CSE237A/finalproj/data/hair\")\n",
    "llaund=os.listdir(\"/Sivasankar/UCSD/Winter2019/CSE237A/finalproj/data/laund\")\n",
    "lvac=os.listdir(\"/Sivasankar/UCSD/Winter2019/CSE237A/finalproj/data/vac\")\n",
    "l=[ltype,leat,lhair,llaund,lvac]\n",
    "v=len(ltype)"
   ]
  },
  {
   "cell_type": "code",
   "execution_count": 163,
   "metadata": {},
   "outputs": [],
   "source": [
    "activ1=np.ndarray((5,v,1,39000))\n",
    "for k in range(0,5):\n",
    "    for i in range(0,v):\n",
    "        activ1[k][i]=np.loadtxt(l[k][i])\n",
    "X=np.ndarray((5*v,39000))\n",
    "y=np.ndarray(5*v)\n",
    "m=0\n",
    "for k in range(0,5):\n",
    "    for i in range(0,v):\n",
    "        X[m]=activ1[k][i]\n",
    "        y[m]=k\n",
    "        m=m+1"
   ]
  },
  {
   "cell_type": "code",
   "execution_count": 207,
   "metadata": {},
   "outputs": [],
   "source": [
    "X_train, X_test, y_train, y_test = train_test_split(X,y,stratify=y,test_size=0.2)"
   ]
  },
  {
   "cell_type": "code",
   "execution_count": 208,
   "metadata": {},
   "outputs": [],
   "source": [
    "clf1=svk.SVC(C=0.001)"
   ]
  },
  {
   "cell_type": "code",
   "execution_count": 209,
   "metadata": {},
   "outputs": [
    {
     "data": {
      "text/plain": [
       "SVC(C=0.001, cache_size=200, class_weight=None, coef0=0.0,\n",
       "  decision_function_shape='ovr', degree=3, gamma='auto', kernel='rbf',\n",
       "  max_iter=-1, probability=False, random_state=None, shrinking=True,\n",
       "  tol=0.001, verbose=False)"
      ]
     },
     "execution_count": 209,
     "metadata": {},
     "output_type": "execute_result"
    }
   ],
   "source": [
    "clf1.fit(X_train,y_train)"
   ]
  },
  {
   "cell_type": "code",
   "execution_count": 210,
   "metadata": {},
   "outputs": [
    {
     "data": {
      "text/plain": [
       "array([4., 1., 2., 2., 1., 4., 1., 3., 3., 1.])"
      ]
     },
     "execution_count": 210,
     "metadata": {},
     "output_type": "execute_result"
    }
   ],
   "source": [
    "clf1.predict(X_test)"
   ]
  },
  {
   "cell_type": "code",
   "execution_count": 211,
   "metadata": {},
   "outputs": [
    {
     "data": {
      "text/plain": [
       "0.8"
      ]
     },
     "execution_count": 211,
     "metadata": {},
     "output_type": "execute_result"
    }
   ],
   "source": [
    "clf1.score(X_test,y_test)"
   ]
  },
  {
   "cell_type": "code",
   "execution_count": null,
   "metadata": {},
   "outputs": [],
   "source": [
    "x_train=np.ndarray((32,39000))\n",
    "y_train=np.ndarray(32)\n",
    "x_test=np.ndarray((8,39000))\n",
    "y_test=np.ndarray(8)\n",
    "for k in range(0,4):\n",
    "    for i in range(0,8):\n",
    "        x_train[8*k+i]=activ[k][i]\n",
    "        y_train[8*k+i]=k\n",
    "    for i in range(8,10):\n",
    "        x_test[2*k+(i-8)]=activ[k][i]\n",
    "        y_test[2*k+(i-8)]=k"
   ]
  }
 ],
 "metadata": {
  "kernelspec": {
   "display_name": "Python 3",
   "language": "python",
   "name": "python3"
  },
  "language_info": {
   "codemirror_mode": {
    "name": "ipython",
    "version": 3
   },
   "file_extension": ".py",
   "mimetype": "text/x-python",
   "name": "python",
   "nbconvert_exporter": "python",
   "pygments_lexer": "ipython3",
   "version": "3.7.0"
  }
 },
 "nbformat": 4,
 "nbformat_minor": 2
}
