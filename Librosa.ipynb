{
 "cells": [
  {
   "cell_type": "code",
   "execution_count": 119,
   "metadata": {},
   "outputs": [],
   "source": [
    "import numpy as np \n",
    "\n",
    "def parser(file):\n",
    "    ##function to load and extract features\n",
    "    X,sr = librosa.load(file,res_type='kaiser_fast')\n",
    "    features = librosa.feature.mfcc(y=X,sr=sr,n_mfcc=40)\n",
    "    mfccs = np.mean(features.T,axis=0)\n",
    "\n",
    "\n",
    "    return mfccs\n",
    "    \n",
    "hair =parser('hair1.wav')\n",
    "laund = parser('laund1.wav')\n",
    "hair_test = parser('hair2.wav')\n",
    "laund_test = parser('laund2.wav')"
   ]
  },
  {
   "cell_type": "code",
   "execution_count": 121,
   "metadata": {},
   "outputs": [],
   "source": [
    "X = []\n",
    "for i in range(80):\n",
    "    if (i<40):\n",
    "        X.append(hair[i])\n",
    "    else:\n",
    "        X.append(laund[i-40])\n",
    "X = np.array(X)\n",
    "X = X.reshape(-1,1)\n",
    "\n",
    "y = []\n",
    "for i in range(80):\n",
    "    if (i<40):\n",
    "        y.append(0)\n",
    "    else:\n",
    "        y.append(1)\n",
    "        \n",
    "X_test = []\n",
    "for i in range(80):\n",
    "    if (i<40):\n",
    "        X_test.append(hair_test[i])\n",
    "    else:\n",
    "        X_test.append(laund_test[i-40])\n",
    "X_test  = np.array(X_test)\n",
    "X_test = X_test.reshape(-1,1)\n",
    "\n",
    "\n",
    "y_test = []\n",
    "for i in range(80):\n",
    "    if (i<40):\n",
    "        y_test.append(0)\n",
    "    else:\n",
    "        y_test.append(1)"
   ]
  },
  {
   "cell_type": "code",
   "execution_count": 122,
   "metadata": {},
   "outputs": [
    {
     "name": "stderr",
     "output_type": "stream",
     "text": [
      "C:\\Users\\chand\\Anaconda2\\envs\\ipykernel_py3\\lib\\site-packages\\sklearn\\svm\\base.py:196: FutureWarning: The default value of gamma will change from 'auto' to 'scale' in version 0.22 to account better for unscaled features. Set gamma explicitly to 'auto' or 'scale' to avoid this warning.\n",
      "  \"avoid this warning.\", FutureWarning)\n"
     ]
    },
    {
     "data": {
      "text/plain": [
       "SVC(C=1.0, cache_size=200, class_weight=None, coef0=0.0,\n",
       "  decision_function_shape='ovr', degree=3, gamma='auto_deprecated',\n",
       "  kernel='rbf', max_iter=-1, probability=False, random_state=None,\n",
       "  shrinking=True, tol=0.001, verbose=False)"
      ]
     },
     "execution_count": 122,
     "metadata": {},
     "output_type": "execute_result"
    }
   ],
   "source": [
    "from sklearn import svm\n",
    "\n",
    "clf = svm.SVC(kernel ='rbf')\n",
    "clf.fit(X,y)"
   ]
  },
  {
   "cell_type": "code",
   "execution_count": 123,
   "metadata": {},
   "outputs": [],
   "source": [
    "y_pred = clf.predict(X_test)"
   ]
  },
  {
   "cell_type": "code",
   "execution_count": 125,
   "metadata": {},
   "outputs": [
    {
     "name": "stdout",
     "output_type": "stream",
     "text": [
      "Accuracy:  0.5\n"
     ]
    }
   ],
   "source": [
    "from sklearn import metrics\n",
    "\n",
    "print (\"Accuracy: \",metrics.accuracy_score(y_test,y_pred))"
   ]
  }
 ],
 "metadata": {
  "kernelspec": {
   "display_name": "Python 3",
   "language": "python",
   "name": "python3"
  },
  "language_info": {
   "codemirror_mode": {
    "name": "ipython",
    "version": 3
   },
   "file_extension": ".py",
   "mimetype": "text/x-python",
   "name": "python",
   "nbconvert_exporter": "python",
   "pygments_lexer": "ipython3",
   "version": "3.7.1"
  }
 },
 "nbformat": 4,
 "nbformat_minor": 2
}
